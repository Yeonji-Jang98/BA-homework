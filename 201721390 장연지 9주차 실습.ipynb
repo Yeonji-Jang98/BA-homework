{
 "cells": [
  {
   "cell_type": "markdown",
   "metadata": {},
   "source": [
    "## Topic Modeling with Sklearn\n",
    "\n",
    "영화 리뷰 데이터를 이용하여 topic modeling을 학습"
   ]
  },
  {
   "attachments": {
    "image.png": {
     "image/png": "[encoded data removed]"
    }
   },
   "cell_type": "markdown",
   "metadata": {},
   "source": [
    "### Topic Modeling이란?\n",
    "\n",
    "참조: https://ratsgo.github.io/from%20frequency%20to%20semantics/2017/06/01/LDA/\n",
    "\n",
    "토픽모델링은 텍스트 형태로 되어 있는 다수의 문서들로부터 공통적으로 내재되어 있는 주제들을 추출하기 위한 방법론이다. <br>\n",
    "토픽모델링의 기본적인 가정은, 저자들이 문서를 작성할 때 먼저 특정한 주제들을 정하고 나서 그러한 주제들로부터 문장을 구성한다는 것이다. 따라서 문서를 구성하는 단어들은 그 주제들로부터 파생되어진 것으로 볼 수 있으며, 토픽모델링은 문서와 단어들에 대해 통계적인 추론을 수행하여 본래의 주제들을 찾아내는 방법이라고 할 수 있다.  <br>\n",
    "이러한 작업을 하기 위해서는 먼저 자연어로 기술되어 있는 문서들에 대해 형태소 분석을 함으로써 문장들을 개별 단어로 분리해야 한다. \n",
    " <br>\n",
    "토픽모델링의 가장 대표적인 알고리즘은 LDA(Latent Dirichlet Allocation)로 알려져 있다.  <br>\n",
    "LDA는 Blei et al. (2003)에 의해 제안된 알고리즘으로, 앞서 설명한 바와 같이, 확률기법을 기반으로 하여 문서의 토픽 분포를 추론한다.  <br>\n",
    "LDA에서 토픽은 주제를 의미하는 용어로 사용되며, 각 문서들이 특정한 주제에 속할 확률분포와 주제로부터 특정 단어들이 파생되어 나올 확률분포가 주어졌을 때, 이 두 확률분포를 조합하여 각 문서들에 들어가는 단어들의 확률분포를 계산해낸다.  <br>\n",
    "아래 그림에서 θ는 문서들이 각 주제들에 속할 확률분포를 나타내며 디리클레분포의 매개변수인 α에 의해 결정된다.  <br>\n",
    "그림에서 N은 특정 문서에 속한 단어의 집합이며, M은 전체 문서의 집합을 나타낸다. z는 문서 내의 단어들이 주제들에 속할 확률분포를 나타내며, 이는 θ에 의한 다항분포로 선택된다.  <br>\n",
    "β는 각 주제가 특정 단어를 생성할 확률을 나타내는 확률분포이며, 결국 z와 β에 의해 실제 문서들의 단어분포인 w가 결정된다.  <br>\n",
    "이 모형에서 w만이 실제로 문서들을 통해 주어진 분포이고 나머지는 모두 잠재변수이다.  <br>\n",
    "LDA 알고리즘에서는 주어진 문서와 토픽들의 사전확률 분포인 α와 토픽 내에서 단어의 사전확률분포인 β의 파라미터 값을 활용해 반복적인 시뮬레이션을 통해 z와 θ를 추정한다. \n",
    "\n",
    "![image.png](attachment:image.png)\n",
    "\n",
    "![image.png](topic.png)"
   ]
  },
  {
   "cell_type": "markdown",
   "metadata": {},
   "source": [
    "인스티즈에서 추출한 아이돌 그룹별 게시글 제목을 불러온다."
   ]
  },
  {
   "cell_type": "code",
   "execution_count": 2,
   "metadata": {},
   "outputs": [],
   "source": [
    "import csv\n",
    "text = []\n",
    "y = []\n",
    "\n",
    "with open('아이돌.csv', encoding='utf-8') as csvfile:\n",
    "    csvreader = csv.reader(csvfile)\n",
    "    for row in csvreader:\n",
    "        #print(row)\n",
    "        if row and len(row[0]) > 10: #review 길이가 10자 이상인 경우만\n",
    "#        if row: #그 줄에 내용이 있는 경우에만\n",
    "            text.append(row[0]) #영화 리뷰를 text 리스트에 추가\n",
    "            y.append(row[1]) #영화이름을 text 리스트에 추가"
   ]
  },
  {
   "cell_type": "code",
   "execution_count": 3,
   "metadata": {},
   "outputs": [
    {
     "name": "stdout",
     "output_type": "stream",
     "text": [
      "게시글 제목 수: 1854\n",
      "아이돌 그룹: {'izone', 'twice', 'BTS', 'exo'}\n"
     ]
    }
   ],
   "source": [
    "print('게시글 제목 수:', len(text))\n",
    "print('아이돌 그룹:', set(y))"
   ]
  },
  {
   "cell_type": "code",
   "execution_count": 5,
   "metadata": {},
   "outputs": [
    {
     "data": {
      "text/plain": [
       "['<U+0001F525><U+0001F525><U+0001F525><U+0001F525><U+0001F525> 집중 <U+0001F525><U+0001F525><U+0001F525><U+0001F525><U+0001F525>',\n",
       " '<U+0001F525><U+0001F525><U+0001F525>최애돌 집중<U+0001F525><U+0001F525><U+0001F525>',\n",
       " '<U+0001F5E3>미디어에 보여지는 모습과 실제 자신 사이의 균형을 맞추는게 어렵지 않나요 <U+0001F42F>',\n",
       " '다들   이거 어떻게 읽어  ',\n",
       " '분 남아따 <U+0001F525><U+0001F525><U+0001F525><U+0001F525><U+0001F525><U+0001F525><U+0001F525>',\n",
       " '<U+0001F525><U+0001F525><U+0001F525><U+0001F525><U+0001F525> 최애돌 끝나고 다른거 해줘<U+0001F525><U+0001F525><U+0001F525><U+0001F525><U+0001F525> ㅠㅠ',\n",
       " 'ㅇㄸㅃㄸㅇㄸㅃㄸㅇㄸㅃㄸ',\n",
       " '오래전에 ㅍㅍ작가였는데 반응이 너무 없어서 포타 트위터 둘 다 펑했는데  ',\n",
       " '롤링스톤 이부분 개웃겨ㅋㅋㅋㅋ',\n",
       " '울애들 상쭐내줍시다         ']"
      ]
     },
     "execution_count": 5,
     "metadata": {},
     "output_type": "execute_result"
    }
   ],
   "source": [
    "text[:10]  #텍스트 정제문제 해결 못함"
   ]
  },
  {
   "cell_type": "markdown",
   "metadata": {},
   "source": [
    "#### 한글 처리를 위해서는 konlpy가 필요\n",
    "\n",
    "topic modeling은 count vector를 사용하므로 sklearn의 CountVectorizer를 사용"
   ]
  },
  {
   "cell_type": "code",
   "execution_count": 6,
   "metadata": {},
   "outputs": [],
   "source": [
    "from konlpy.tag import Okt #konlpy에서 Twitter 형태소 분석기를 import\n",
    "twitter_tag = Okt()\n",
    "\n",
    "from sklearn.feature_extraction.text import CountVectorizer\n",
    "\n",
    "vec = CountVectorizer(tokenizer=twitter_tag.nouns, #우선은 명사만 사용\n",
    "                      decode_error ='ignore', \n",
    "                      max_df=0.5, #너무 자주 나타나는 단어는 제외, 책에서는 0.15를 사용\n",
    "                      #min_df = 3, #3개 미만의 문서에서 나타난 단어는 제외, 여기서는 max_features를 1000으로 제한하므로 별 필요 없음\n",
    "                      max_features = 1000) #적당한 대상 단어 수를 선택\n",
    "review_cv = vec.fit_transform(text)"
   ]
  },
  {
   "cell_type": "code",
   "execution_count": 7,
   "metadata": {},
   "outputs": [
    {
     "data": {
      "text/plain": [
       "(1854, 1000)"
      ]
     },
     "execution_count": 7,
     "metadata": {},
     "output_type": "execute_result"
    }
   ],
   "source": [
    "review_cv.shape"
   ]
  },
  {
   "cell_type": "markdown",
   "metadata": {},
   "source": [
    "#### sklearn의 LatentDirichletAllocation을 이용하여 topic modeling 수행\n",
    "다양한 argument를 적절히 이용하는 것이 중요"
   ]
  },
  {
   "cell_type": "code",
   "execution_count": 8,
   "metadata": {},
   "outputs": [],
   "source": [
    "from sklearn.decomposition import LatentDirichletAllocation\n",
    "\n",
    "lda = LatentDirichletAllocation(n_components = 10, #추출할 topic의 수를 지정\n",
    "                                max_iter=25, #max_iter는 최종 모형에서는 5,000~10,000번 시도한다고 알려져 있음\n",
    "                                topic_word_prior= 0.1, doc_topic_prior=1.0,\n",
    "                                #topic_word_prior: beta, doc_topic_prior: alpha\n",
    "                                #일반적으로 beta는 0.1로 고정하고 alpha를 50/topic의 수 근처의 값을 시도\n",
    "                                #alpha와 beta는 낮은 값을 사용할수록 특정 토픽들이 두드러지도록 하는 효과가 있다고 합\n",
    "                                learning_method='batch', #'batch'는 'online'에 비해 더 성능이 좋고 느림, 현재는 default\n",
    "                                n_jobs= -1, #사용 processor 수, None이면 1, -1이면 모두 사용\n",
    "                                random_state=0)\n",
    "\n",
    "review_topics = lda.fit_transform(review_cv)"
   ]
  },
  {
   "cell_type": "code",
   "execution_count": 9,
   "metadata": {},
   "outputs": [
    {
     "name": "stdout",
     "output_type": "stream",
     "text": [
      "topic-word distribution dimension: (10, 1000)\n",
      "document-topic distribution dimenstion (1854, 10)\n"
     ]
    }
   ],
   "source": [
    "print('topic-word distribution dimension:', lda.components_.shape)\n",
    "print('document-topic distribution dimenstion', review_topics.shape)"
   ]
  },
  {
   "cell_type": "markdown",
   "metadata": {},
   "source": [
    "#### topic을 보기 쉽게 출력하는 함수를 작성"
   ]
  },
  {
   "cell_type": "code",
   "execution_count": 10,
   "metadata": {},
   "outputs": [],
   "source": [
    "def print_top_words(model, feature_names, n_top_words):\n",
    "    for topic_idx, topic in enumerate(model.components_):\n",
    "        print(\"Topic #%d: \" % topic_idx, end='')\n",
    "        print(\", \".join([feature_names[i] for i in topic.argsort()[:-n_top_words - 1:-1]]))\n",
    "        #print(\", \".join([feature_names[i]+'('+str(topic[i])+')' for i in topic.argsort()[:-n_top_words - 1:-1]]))\n",
    "        # 위 slicing에서 맨 뒤 -1은 역순을 의미, 역순으로 했을 때 처음부터 n_top_words까지\n",
    "    print()"
   ]
  },
  {
   "cell_type": "code",
   "execution_count": 11,
   "metadata": {},
   "outputs": [
    {
     "name": "stdout",
     "output_type": "stream",
     "text": [
      "Topic #0: 오늘, 거, 브이, 앱, 눈, 컴백, 나연, 월, 언제, 뮤비\n",
      "Topic #1: 백현, 우리, 투표, 윤기, 인증, 래미, 최애, 입덕, 돌, 꼭\n",
      "Topic #2: 진짜, 이, 둘리, 개, 트와이스, 준, 일본, 말, 방, 온라인\n",
      "Topic #3: 애, 독방, 노래, 수, 내, 분, 오프, 그, 중, 너\n",
      "Topic #4: 종인, 타팬, 이번, 왜, 때, 하루, 난, 곡, 공지, 유진\n",
      "Topic #5: 사진, 일, 영상, 울, 티르, 스밍, 보은, 움짤, 제발, 원스\n",
      "Topic #6: 나, 이제, 콘서트, 징, 뒤, 버블, 줄, 떡밥, 무슨, 이틀\n",
      "Topic #7: 생일, 아이즈, 축하, 위, 해, 유리, 또, 날, 보고, 은비\n",
      "Topic #8: 뭐, 탄소, 지금, 좀, 안, 하트, 명, 프메, 민주, 시작\n",
      "Topic #9: 사람, 앨범, 혹시, 겨울, 스포, 채원, 여기, 솔로, 친구, 더\n",
      "\n"
     ]
    }
   ],
   "source": [
    "print_top_words(lda,vec.get_feature_names(), 10)"
   ]
  },
  {
   "cell_type": "markdown",
   "metadata": {},
   "source": [
    "#### 한 자로 구성된 명사들은 의미파악이 어려우므로 삭제할 필요가 있음\n",
    "두 자 이상만 반환하는 함수를 작성"
   ]
  },
  {
   "cell_type": "code",
   "execution_count": 12,
   "metadata": {},
   "outputs": [
    {
     "data": {
      "text/plain": [
       "['최애', '돌', '집중']"
      ]
     },
     "execution_count": 12,
     "metadata": {},
     "output_type": "execute_result"
    }
   ],
   "source": [
    "twitter_tag.nouns(text[1])"
   ]
  },
  {
   "cell_type": "code",
   "execution_count": 13,
   "metadata": {},
   "outputs": [],
   "source": [
    "def tokenizer(str):\n",
    "    return [token for token in twitter_tag.nouns(str) if len(token) > 1]"
   ]
  },
  {
   "cell_type": "code",
   "execution_count": 14,
   "metadata": {},
   "outputs": [
    {
     "data": {
      "text/plain": [
       "['최애', '집중']"
      ]
     },
     "execution_count": 14,
     "metadata": {},
     "output_type": "execute_result"
    }
   ],
   "source": [
    "tokenizer(text[1])"
   ]
  },
  {
   "cell_type": "code",
   "execution_count": 15,
   "metadata": {},
   "outputs": [],
   "source": [
    "#count vector 새로 생성\n",
    "vec = CountVectorizer(tokenizer=tokenizer, decode_error ='ignore', \n",
    "                      max_df=0.5, max_features = 1000) #너무 자주 나타나는 단어는 제외\n",
    "review_cv = vec.fit_transform(text)"
   ]
  },
  {
   "cell_type": "code",
   "execution_count": 16,
   "metadata": {},
   "outputs": [
    {
     "name": "stdout",
     "output_type": "stream",
     "text": [
      "Topic #0: 유리, 솔로, 남준, 로고, 왓이즈럽, 참여, 카메라, 매일, 가능성, 마마\n",
      "Topic #1: 유진, 건가, 다음, 어차피, 가용, 큥르, 촬영, 최근, 기념, 원츄\n",
      "Topic #2: 탄소, 방탄, 손민수, 정말, 궁예, 숨스, 여러분, 아이돌, 콘도, 혹쉬\n",
      "Topic #3: 백현, 뭔가, 광고, 왜케, 계속, 글코, 만날, 메이크업, 중국어, 노빠꾸\n",
      "Topic #4: 진짜, 종인, 사랑, 인터뷰, 고생, 아이콘, 전정국, 댕댕, 그린, 나나\n",
      "Topic #5: 한번, 웃기, 토너, 안녕, 히토미, 티켓, 응원봉, 빅히트, 총총, 박스\n",
      "Topic #6: 버블, 버스, 미나, 어디, 정리, 계정, 제일, 문의, 자신, 구경\n",
      "Topic #7: 민주, 숙청, 애기, 타임, 모습, 프리징, 육성, 사이, 틸틸, 스토리\n",
      "Topic #8: 아이즈, 추천, 준면, 기절, 유니버스, 데뷔, 유닛, 재발, 커뮤니티, 태명\n",
      "Topic #9: 태형, 처음, 둥이, 몇개, 링크, 랜덤, 알제, 살짝, 입장, 알라딘\n",
      "Topic #10: 프메, 은비, 사쿠라, 활동, 정규, 혜원, 내년, 홍보, 거기, 하장\n",
      "Topic #11: 앨범, 단체, 공구, 벌써, 이름, 기차, 버전, 입술, 다이너마이트, 완쓰들\n",
      "Topic #12: 제발, 온콘, 다시, 바보, 너희, 똥손, 사실, 완료, 썸넬, 안뇽\n",
      "Topic #13: 둘리, 오프, 김종인, 내일, 관심, 종특, 의외, 충전, 주의, 원인\n",
      "Topic #14: 여기, 최애, 원영, 김남준, 자리, 아침, 부탁, 빠띠, 와우, 한지\n",
      "Topic #15: 하나, 라이브, 갑자기, 일단, 디싱, 기부, 비티, 팝업, 최초, 시즌\n",
      "Topic #16: 트와이스, 티르, 온라인, 구해, 배경화면, 단발, 쿠라, 교환, 거지, 팡파레\n",
      "Topic #17: 삐삐, 완전, 가요, 눈물, 미리, 공트, 왔지녁, 시리즈, 바바, 화요일\n",
      "Topic #18: 오늘, 진심, 중간, 음중, 건너, 변경, 저녁, 친삭, 불가, 가야\n",
      "Topic #19: 독방, 생각, 전시회, 소리, 국민, 케이, 배경, 어그, 정도, 월일\n",
      "Topic #20: 하루, 스포, 동화, 똑똑, 환상, 고척, 댓글, 마음, 역시, 공부\n",
      "Topic #21: 이번, 콘서트, 요즘, 잠깐, 답장, 얘드, 룸메, 브앱, 눈치, 지붕킥\n",
      "Topic #22: 컴백, 아지, 수록, 인기상, 캐롤, 모모, 상상, 덕질, 신분, 면서\n",
      "Topic #23: 생일, 셀카, 트위터, 얼굴, 결제, 샄낰히, 쇼케, 김곰돌, 인장, 가디건\n",
      "Topic #24: 지금, 누가, 안유진, 달방, 기간, 세트, 아미, 싱글, 도입, 실트\n",
      "Topic #25: 뮤비, 일본, 시작, 크게, 주년, 스타, 감동, 박찬열, 원피스, 큥콘하\n",
      "Topic #26: 우리, 인증, 어제, 정구, 아시, 대체, 구독, 키링, 날씨, 제품\n",
      "Topic #27: 입덕, 이미지, 엑소, 후보, 거리, 트레일러, 주량, 멘트, 한계, 카톡\n",
      "Topic #28: 래미, 움짤, 사나, 확인, 컨셉, 월요일, 채영, 스페셜, 필름, 원래\n",
      "Topic #29: 사람, 타팬, 정보, 샤독방, 트둥, 정국, 대형, 나비, 위기, 문특\n",
      "Topic #30: 채원, 예나, 채연, 원스, 그거, 포카, 행복, 먹방, 실화, 날인\n",
      "Topic #31: 노래, 겨울, 머리, 공개, 얼마나, 올해, 보이, 윤끼, 대치, 며칠\n",
      "Topic #32: 관련, 게임, 그림, 인스타, 세훈, 자기, 어케, 귀걸이, 준비, 반지\n",
      "Topic #33: 무슨, 조유리, 나코, 캔디, 김민주, 애옹, 자꾸, 응원, 자고, 등장\n",
      "Topic #34: 티저, 멤버, 아가, 한국, 악개, 기분, 난리, 때문, 동안, 서폿\n",
      "Topic #35: 윤기, 얼른, 예전, 금지, 새벽, 별명, 도대체, 알바, 부분, 재팬\n",
      "Topic #36: 큥콘, 격차, 특전, 이유, 그룹, 작년, 진짜, 뷔민, 약간, 어디껀\n",
      "Topic #37: 시간, 꼬꼬, 일이, 왤케, 위즈원, 샤샤, 레전드, 이건, 신곡, 매번\n",
      "Topic #38: 친구, 오빠, 사고, 세션, 팩샷, 트랙리스트, 아무, 몇번, 동아리, 진짜\n",
      "Topic #39: 질문, 머글, 다른, 앚츄, 런닝맨, 상쭐, 저기, 오른쪽, 인기, 왱케\n",
      "Topic #40: 혹시, 떡밥, 아케이드, 하자, 민석, 얼마, 분위기, 라면, 부터, 지니\n",
      "Topic #41: 브이, 스밍, 피에스타, 웨어, 역대, 기대, 무엇, 사쿠노키, 온택트, 집중호우\n",
      "Topic #42: 보고, 언제, 공지, 모음, 정연, 집중, 모어, 꿀팁, 트웰브, 취향\n",
      "Topic #43: 이제, 보은, 느낌, 에리, 방금, 예고, 실감, 현이, 볼때, 토리\n",
      "Topic #44: 투표, 방송, 다현, 주니, 유정연, 주문, 과연, 인티, 라스, 라디오\n",
      "Topic #45: 이틀, 그냥, 스엠, 이면, 멜론, 얘기, 개인, 체경, 경수, 알람\n",
      "Topic #46: 사진, 고화질, 마이크, 민윤기, 알림, 프로필, 수요일, 찰떡, 이야기, 다음주\n",
      "Topic #47: 축하, 하트, 영상, 에버, 버즈, 스님, 예뿌, 메모리즈, 목소리, 연습\n",
      "Topic #48: 나연, 연말, 과자, 억뷰, 만약, 쩐다, 소식, 아주, 선공, 웃음\n",
      "Topic #49: 팬미팅, 무대, 종이니, 어미, 심장, 모자, 고갈, 롤링스톤, 컨포, 뽀둥\n",
      "\n"
     ]
    }
   ],
   "source": [
    "#topic modeling 수행\n",
    "lda = LatentDirichletAllocation(n_components = 50, max_iter=25, \n",
    "                                topic_word_prior= 0.1, doc_topic_prior=1.0,\n",
    "                                learning_method='batch',\n",
    "                                n_jobs= -1,\n",
    "                                random_state=0)\n",
    "review_topics = lda.fit_transform(review_cv)\n",
    "print_top_words(lda,vec.get_feature_names(), 10)"
   ]
  },
  {
   "cell_type": "markdown",
   "metadata": {},
   "source": [
    "50개의 topic들을 대상으로 clustering을 수행해서 topic들이 잘 묶을 수 있는지 확인"
   ]
  },
  {
   "cell_type": "code",
   "execution_count": 17,
   "metadata": {},
   "outputs": [
    {
     "name": "stdout",
     "output_type": "stream",
     "text": [
      "topic-word distribution dimension: (50, 1000)\n",
      "Cluster label: [1 1 1 1 3 1 1 1 1 1 1 0 1 1 1 1 1 1 2 1 1 1 1 1 1 1 1 1 1 1 1 1 1 1 1 1 1\n",
      " 1 1 1 1 1 1 1 1 1 4 1 1 1]\n"
     ]
    }
   ],
   "source": [
    "from sklearn.cluster import KMeans\n",
    "\n",
    "kmeans = KMeans(n_clusters=5) #5개 클러스터로 분류\n",
    "kmeans.fit(lda.components_)\n",
    "\n",
    "print('topic-word distribution dimension:', lda.components_.shape)\n",
    "print('Cluster label:', kmeans.labels_)"
   ]
  },
  {
   "cell_type": "markdown",
   "metadata": {},
   "source": [
    "T-SNE를 이용하여 각 topic들 간의 관계를 시각화"
   ]
  },
  {
   "cell_type": "code",
   "execution_count": 18,
   "metadata": {},
   "outputs": [
    {
     "name": "stdout",
     "output_type": "stream",
     "text": [
      "TSNE dimension: (50, 2)\n"
     ]
    },
    {
     "data": {
      "text/plain": [
       "array([   1.6999741,   26.528866 ,  -58.93403  ,  -77.12929  ,\n",
       "       -122.158134 ,   18.41475  ,  -52.62474  ,   33.709976 ,\n",
       "         90.46262  ,  -12.441018 ,   52.85433  ,   48.545856 ,\n",
       "        -25.740494 ,   94.272675 ,   61.403503 ,  -17.211168 ,\n",
       "          1.2656676,    9.304597 ,  -99.623245 ,  115.61471  ,\n",
       "         18.56973  ,   -1.1597338,  -61.557735 ,   10.805117 ,\n",
       "         31.226965 ,   71.11579  , -107.38415  ,   -3.1555269,\n",
       "         57.06543  ,   55.120316 ,   50.462902 ,  -44.006695 ,\n",
       "         -5.8885098,    6.44591  ,   45.228966 ,  -81.934654 ,\n",
       "         17.360794 ,  -14.6056   ,  -38.292614 ,   27.64206  ,\n",
       "         87.606575 ,  -91.84288  ,  -64.12889  ,  -26.020853 ,\n",
       "        -53.7765   ,  -27.157038 ,  -29.466843 ,  102.29008  ,\n",
       "        -29.218107 ,  -36.326794 ], dtype=float32)"
      ]
     },
     "execution_count": 18,
     "metadata": {},
     "output_type": "execute_result"
    }
   ],
   "source": [
    "from sklearn.manifold import TSNE\n",
    "tsne = TSNE(n_components=2, random_state=42)\n",
    "tsne_review = tsne.fit_transform(lda.components_)\n",
    "print('TSNE dimension:', tsne_review.shape)\n",
    "tsne_review[:,0]"
   ]
  },
  {
   "cell_type": "code",
   "execution_count": 19,
   "metadata": {},
   "outputs": [],
   "source": [
    "%matplotlib inline\n",
    "import matplotlib.pyplot as plt\n",
    "from matplotlib import font_manager, rc\n",
    "font_name = font_manager.FontProperties(fname=\"c:/Windows/Fonts/malgun.ttf\").get_name()\n",
    "rc('font', family=font_name)\n",
    "import matplotlib as mpl\n",
    "\n",
    "# 그래프에서 마이너스 폰트 깨지는 문제에 대한 대처\n",
    "mpl.rcParams['axes.unicode_minus'] = False"
   ]
  },
  {
   "cell_type": "code",
   "execution_count": 20,
   "metadata": {},
   "outputs": [
    {
     "data": {
      "image/png": "[encoded data removed]",
      "text/plain": [
       "<Figure size 432x288 with 1 Axes>"
      ]
     },
     "metadata": {
      "needs_background": "light"
     },
     "output_type": "display_data"
    },
    {
     "data": {
      "image/png": "[encoded data removed]",
      "text/plain": [
       "<Figure size 1080x720 with 1 Axes>"
      ]
     },
     "metadata": {
      "needs_background": "light"
     },
     "output_type": "display_data"
    }
   ],
   "source": [
    "colors = {0:'blue', 1:'yellow', 2:'red', 3:'green', 4:'purple'}\n",
    "x1 = tsne_review[:,0]\n",
    "x2 = tsne_review[:,1]\n",
    "plt.scatter(x1, x2)\n",
    "\n",
    "plt.figure(figsize=(15,10))\n",
    "plt.xlim(min(x1), max(x1))\n",
    "plt.ylim(min(x2), max(x2))\n",
    "for i in range(len(x1)):\n",
    "#    plt.text(X1_lsi[i], X2_lsi[i], sample_label[i],\n",
    "#            color = colors[sample_label[i]])\n",
    "    plt.text(x1[i], x2[i], kmeans.labels_[i],\n",
    "            color = colors[kmeans.labels_[i]])\n",
    "\n",
    "#for word, pos in df.iterrows():\n",
    "#    ax.annotate(word, pos, fontsize=30)\n",
    "plt.show()\n",
    "\n",
    "#아래 결과를 보면 각 topic들이 고르게 분포하고 있어, 클러스터링이 별로 의미 없음을 알 수 있음"
   ]
  },
  {
   "cell_type": "markdown",
   "metadata": {},
   "source": [
    "#### 최적의 결과를 찾기 위한 방법\n",
    "적절한 topic의 수는 perplexity 값을 이용해 찾음.<br>\n",
    "낮을 수록 좋은 모형이나, 사람의 판단과 일치하지 않을 수 있음<br>\n",
    "http://qpleple.com/perplexity-to-evaluate-topic-models/ <br>\n",
    "그 외에 alpha, beta는 앞서 설명한 바와 같이 beta=0.1로 고정하고 alpha를 50/토픽수 근처에서 찾아나감<br>\n",
    "반복횟수는 5,000번 정도면 수렴"
   ]
  },
  {
   "cell_type": "code",
   "execution_count": 21,
   "metadata": {},
   "outputs": [
    {
     "data": {
      "text/plain": [
       "3056.6703089699085"
      ]
     },
     "execution_count": 21,
     "metadata": {},
     "output_type": "execute_result"
    }
   ],
   "source": [
    "lda.perplexity(review_cv)"
   ]
  },
  {
   "cell_type": "code",
   "execution_count": 22,
   "metadata": {},
   "outputs": [
    {
     "name": "stdout",
     "output_type": "stream",
     "text": [
      "Topic #0: 이제, 솔로, 유리, 티저, 남준, 게임, 인스타, 댓글, 참여, 환상\n",
      "Topic #1: 영상, 유진, 사진, 건가, 다음, 어차피, 민석, 가용, 큥르, 다른\n",
      "Topic #2: 투표, 방탄, 어제, 탄소, 컨셉, 피에스타, 손민수, 방금, 정말, 주니\n",
      "Topic #3: 백현, 노래, 겨울, 뭔가, 광고, 디싱, 관련, 왜케, 스엠, 계속\n",
      "Topic #4: 종인, 진짜, 언제, 머리, 사랑, 인터뷰, 혜원, 멜론, 얼마, 분위기\n",
      "Topic #5: 브이, 사람, 질문, 한번, 웃기, 토너, 안녕, 행복, 웨어, 얼마나\n",
      "Topic #6: 혹시, 하트, 버블, 버스, 미나, 어디, 크게, 정리, 다현, 계정\n",
      "Topic #7: 탄소, 인증, 민주, 스밍, 숙청, 무대, 애기, 타임, 모습, 진짜\n",
      "Topic #8: 아이즈, 스포, 오늘, 추천, 주년, 한국, 준면, 기분, 기절, 어디껀\n",
      "Topic #9: 우리, 태형, 처음, 확인, 포카, 오늘, 얼른, 어미, 둥이, 몇개\n",
      "Topic #10: 프메, 시작, 뮤비, 무슨, 활동, 이틀, 정규, 일본, 방송, 홍보\n",
      "Topic #11: 앨범, 사쿠라, 단체, 라이브, 공구, 벌써, 이면, 꼬꼬, 얘기, 개인\n",
      "Topic #12: 팬미팅, 제발, 움짤, 마이크, 다시, 진짜, 정구, 시간, 특전, 바보\n",
      "Topic #13: 둘리, 진짜, 오프, 김종인, 내일, 하자, 오빠, 그림, 격차, 관심\n",
      "Topic #14: 채원, 여기, 최애, 원영, 김남준, 자리, 아가, 아침, 애옹, 감동\n",
      "Topic #15: 진짜, 사진, 하나, 갑자기, 일단, 공개, 민윤기, 기부, 팝업, 비티\n",
      "Topic #16: 나연, 트와이스, 티르, 온라인, 구해, 배경화면, 머글, 단발, 스타, 월요일\n",
      "Topic #17: 친구, 멤버, 조유리, 삐삐, 나코, 정연, 완전, 가요, 눈물, 김민주\n",
      "Topic #18: 오늘, 윤기, 래미, 떡밥, 큥콘, 미리, 음중, 중간, 체경, 부터\n",
      "Topic #19: 독방, 사진, 생각, 그냥, 모음, 전시회, 소리, 그룹, 국민, 케이\n",
      "Topic #20: 하루, 정보, 예나, 채연, 원스, 이미지, 아케이드, 고화질, 동화, 일이\n",
      "Topic #21: 타팬, 이번, 콘서트, 은비, 요즘, 온콘, 잠깐, 캔디, 걱정, 올해\n",
      "Topic #22: 컴백, 공지, 입덕, 보은, 그거, 아지, 수록, 인기상, 캐롤, 집중\n",
      "Topic #23: 생일, 축하, 보고, 사진, 샤독방, 트위터, 셀카, 로고, 얼굴, 결제\n",
      "Topic #24: 지금, 진심, 누가, 사나, 느낌, 왤케, 오늘, 안유진, 에리, 억뷰\n",
      "\n"
     ]
    },
    {
     "data": {
      "text/plain": [
       "1999.6717882503683"
      ]
     },
     "execution_count": 22,
     "metadata": {},
     "output_type": "execute_result"
    }
   ],
   "source": [
    "#topic modeling 수행\n",
    "lda = LatentDirichletAllocation(n_components = 25, max_iter=25, \n",
    "                                topic_word_prior= 0.1, doc_topic_prior=2.0,\n",
    "                                learning_method='batch',\n",
    "                                n_jobs= -1,\n",
    "                                random_state=0)\n",
    "review_topics = lda.fit_transform(review_cv)\n",
    "print_top_words(lda,vec.get_feature_names(), 10)\n",
    "lda.perplexity(review_cv)"
   ]
  },
  {
   "cell_type": "code",
   "execution_count": 23,
   "metadata": {},
   "outputs": [
    {
     "name": "stdout",
     "output_type": "stream",
     "text": [
      "Topic #0: 둘리, 이제, 솔로, 티저, 시작, 생각, 미나, 남준, 마이크, 정구\n",
      "Topic #1: 사진, 우리, 생일, 축하, 영상, 은비, 트와이스, 유진, 멤버, 그거\n",
      "Topic #2: 투표, 래미, 떡밥, 움짤, 요즘, 방송, 라이브, 사나, 다시, 동화\n",
      "Topic #3: 백현, 앨범, 노래, 겨울, 스포, 티르, 뭔가, 건가, 질문, 자리\n",
      "Topic #4: 진짜, 컴백, 프메, 무슨, 진심, 머리, 원스, 사랑, 온콘, 인터뷰\n",
      "Topic #5: 브이, 사람, 혹시, 채원, 여기, 오프, 이틀, 단체, 숙청, 한번\n",
      "Topic #6: 지금, 하트, 유리, 친구, 콘서트, 최애, 버블, 보은, 버스, 예나\n",
      "Topic #7: 타팬, 이번, 윤기, 인증, 보고, 뮤비, 팬미팅, 스밍, 공지, 무대\n",
      "Topic #8: 오늘, 탄소, 아이즈, 하루, 나연, 민주, 언제, 일본, 온라인, 입덕\n",
      "Topic #9: 종인, 독방, 하나, 활동, 제발, 태형, 그냥, 김남준, 처음, 아케이드\n",
      "\n"
     ]
    },
    {
     "data": {
      "text/plain": [
       "1165.4809546112103"
      ]
     },
     "execution_count": 23,
     "metadata": {},
     "output_type": "execute_result"
    }
   ],
   "source": [
    "#topic modeling 수행\n",
    "lda = LatentDirichletAllocation(n_components = 10, max_iter=25, \n",
    "                                topic_word_prior= 0.1, doc_topic_prior=1.0,\n",
    "                                learning_method='batch',\n",
    "                                n_jobs= -1,\n",
    "                                random_state=0)\n",
    "review_topics = lda.fit_transform(review_cv)\n",
    "print_top_words(lda,vec.get_feature_names(), 10)\n",
    "lda.perplexity(review_cv)"
   ]
  },
  {
   "cell_type": "code",
   "execution_count": null,
   "metadata": {},
   "outputs": [],
   "source": []
  }
 ],
 "metadata": {
  "kernelspec": {
   "display_name": "Python 3",
   "language": "python",
   "name": "python3"
  },
  "language_info": {
   "codemirror_mode": {
    "name": "ipython",
    "version": 3
   },
   "file_extension": ".py",
   "mimetype": "text/x-python",
   "name": "python",
   "nbconvert_exporter": "python",
   "pygments_lexer": "ipython3",
   "version": "3.7.3"
  }
 },
 "nbformat": 4,
 "nbformat_minor": 2
}
